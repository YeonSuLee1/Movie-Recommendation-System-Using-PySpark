{
 "cells": [
  {
   "cell_type": "code",
   "execution_count": 1,
   "metadata": {},
   "outputs": [],
   "source": [
    "import findspark"
   ]
  },
  {
   "cell_type": "code",
   "execution_count": 2,
   "metadata": {},
   "outputs": [],
   "source": [
    "findspark.init('/home/lee/spark-2.4.5-bin-hadoop2.7/')"
   ]
  },
  {
   "cell_type": "code",
   "execution_count": 3,
   "metadata": {},
   "outputs": [],
   "source": [
    "import pyspark"
   ]
  },
  {
   "cell_type": "code",
   "execution_count": 4,
   "metadata": {},
   "outputs": [],
   "source": [
    "from pyspark.sql import SparkSession"
   ]
  },
  {
   "cell_type": "code",
   "execution_count": 5,
   "metadata": {},
   "outputs": [],
   "source": [
    "spark = SparkSession.builder.appName('rec').getOrCreate()"
   ]
  },
  {
   "cell_type": "code",
   "execution_count": 6,
   "metadata": {},
   "outputs": [],
   "source": [
    "from pyspark.ml.recommendation import ALS"
   ]
  },
  {
   "cell_type": "code",
   "execution_count": 7,
   "metadata": {},
   "outputs": [],
   "source": [
    "data = spark.read.csv('ratings.csv',inferSchema = True, header = None, sep=\":\")"
   ]
  },
  {
   "cell_type": "code",
   "execution_count": 8,
   "metadata": {},
   "outputs": [
    {
     "name": "stdout",
     "output_type": "stream",
     "text": [
      "+---+----+---+----+---+----+---------+\n",
      "|_c0| _c1|_c2| _c3|_c4| _c5|      _c6|\n",
      "+---+----+---+----+---+----+---------+\n",
      "|  1|null|122|null|5.0|null|838985046|\n",
      "|  1|null|185|null|5.0|null|838983525|\n",
      "|  1|null|231|null|5.0|null|838983392|\n",
      "|  1|null|292|null|5.0|null|838983421|\n",
      "|  1|null|316|null|5.0|null|838983392|\n",
      "|  1|null|329|null|5.0|null|838983392|\n",
      "|  1|null|355|null|5.0|null|838984474|\n",
      "|  1|null|356|null|5.0|null|838983653|\n",
      "|  1|null|362|null|5.0|null|838984885|\n",
      "|  1|null|364|null|5.0|null|838983707|\n",
      "|  1|null|370|null|5.0|null|838984596|\n",
      "|  1|null|377|null|5.0|null|838983834|\n",
      "|  1|null|420|null|5.0|null|838983834|\n",
      "|  1|null|466|null|5.0|null|838984679|\n",
      "|  1|null|480|null|5.0|null|838983653|\n",
      "|  1|null|520|null|5.0|null|838984679|\n",
      "|  1|null|539|null|5.0|null|838984068|\n",
      "|  1|null|586|null|5.0|null|838984068|\n",
      "|  1|null|588|null|5.0|null|838983339|\n",
      "|  1|null|589|null|5.0|null|838983778|\n",
      "+---+----+---+----+---+----+---------+\n",
      "only showing top 20 rows\n",
      "\n"
     ]
    }
   ],
   "source": [
    "data.show()"
   ]
  },
  {
   "cell_type": "code",
   "execution_count": 9,
   "metadata": {},
   "outputs": [
    {
     "name": "stdout",
     "output_type": "stream",
     "text": [
      "root\n",
      " |-- _c0: integer (nullable = true)\n",
      " |-- _c1: string (nullable = true)\n",
      " |-- _c2: integer (nullable = true)\n",
      " |-- _c3: string (nullable = true)\n",
      " |-- _c4: double (nullable = true)\n",
      " |-- _c5: string (nullable = true)\n",
      " |-- _c6: integer (nullable = true)\n",
      "\n"
     ]
    }
   ],
   "source": [
    "data.printSchema()"
   ]
  },
  {
   "cell_type": "code",
   "execution_count": 10,
   "metadata": {},
   "outputs": [
    {
     "name": "stdout",
     "output_type": "stream",
     "text": [
      "+---+---+---+\n",
      "|_c0|_c2|_c4|\n",
      "+---+---+---+\n",
      "|  1|122|5.0|\n",
      "|  1|185|5.0|\n",
      "|  1|231|5.0|\n",
      "|  1|292|5.0|\n",
      "|  1|316|5.0|\n",
      "|  1|329|5.0|\n",
      "|  1|355|5.0|\n",
      "|  1|356|5.0|\n",
      "|  1|362|5.0|\n",
      "|  1|364|5.0|\n",
      "|  1|370|5.0|\n",
      "|  1|377|5.0|\n",
      "|  1|420|5.0|\n",
      "|  1|466|5.0|\n",
      "|  1|480|5.0|\n",
      "|  1|520|5.0|\n",
      "|  1|539|5.0|\n",
      "|  1|586|5.0|\n",
      "|  1|588|5.0|\n",
      "|  1|589|5.0|\n",
      "+---+---+---+\n",
      "only showing top 20 rows\n",
      "\n"
     ]
    }
   ],
   "source": [
    "data.drop('_c1','_c3','_c5','_c6').show()"
   ]
  },
  {
   "cell_type": "code",
   "execution_count": 11,
   "metadata": {},
   "outputs": [],
   "source": [
    "from pyspark.sql.functions import col\n",
    "\n",
    "data = data.select(col('_c0').alias('UserID'),col('_c2').alias('MovieID'),col('_c4').alias('rating'))"
   ]
  },
  {
   "cell_type": "code",
   "execution_count": 12,
   "metadata": {},
   "outputs": [
    {
     "name": "stdout",
     "output_type": "stream",
     "text": [
      "+------+-------+------+\n",
      "|UserID|MovieID|rating|\n",
      "+------+-------+------+\n",
      "|     1|    122|   5.0|\n",
      "|     1|    185|   5.0|\n",
      "|     1|    231|   5.0|\n",
      "|     1|    292|   5.0|\n",
      "|     1|    316|   5.0|\n",
      "|     1|    329|   5.0|\n",
      "|     1|    355|   5.0|\n",
      "|     1|    356|   5.0|\n",
      "|     1|    362|   5.0|\n",
      "|     1|    364|   5.0|\n",
      "|     1|    370|   5.0|\n",
      "|     1|    377|   5.0|\n",
      "|     1|    420|   5.0|\n",
      "|     1|    466|   5.0|\n",
      "|     1|    480|   5.0|\n",
      "|     1|    520|   5.0|\n",
      "|     1|    539|   5.0|\n",
      "|     1|    586|   5.0|\n",
      "|     1|    588|   5.0|\n",
      "|     1|    589|   5.0|\n",
      "+------+-------+------+\n",
      "only showing top 20 rows\n",
      "\n"
     ]
    }
   ],
   "source": [
    "data.show()"
   ]
  },
  {
   "cell_type": "code",
   "execution_count": 13,
   "metadata": {},
   "outputs": [],
   "source": [
    "(train,test) = data.randomSplit([0.75,0.25])"
   ]
  },
  {
   "cell_type": "code",
   "execution_count": 14,
   "metadata": {},
   "outputs": [],
   "source": [
    "als = ALS(maxIter=10,regParam=0.01,userCol='UserID',itemCol='MovieID', ratingCol='rating',coldStartStrategy=\"drop\")"
   ]
  },
  {
   "cell_type": "code",
   "execution_count": 15,
   "metadata": {},
   "outputs": [],
   "source": [
    "model = als.fit(train)"
   ]
  },
  {
   "cell_type": "code",
   "execution_count": 16,
   "metadata": {},
   "outputs": [],
   "source": [
    "predictions = model.transform(test)"
   ]
  },
  {
   "cell_type": "code",
   "execution_count": 17,
   "metadata": {},
   "outputs": [
    {
     "name": "stdout",
     "output_type": "stream",
     "text": [
      "+------+-------+------+----------+\n",
      "|UserID|MovieID|rating|prediction|\n",
      "+------+-------+------+----------+\n",
      "| 45622|    148|   2.0|  2.829324|\n",
      "| 38139|    148|   2.0|  2.217082|\n",
      "|  5764|    148|   1.0|  2.861872|\n",
      "|  2062|    148|   4.0| 3.5125773|\n",
      "| 68259|    148|   3.0| 2.7314262|\n",
      "| 68414|    148|   4.0| 3.1425054|\n",
      "| 10518|    148|   3.0|  2.608514|\n",
      "| 44369|    148|   3.0| 2.7075639|\n",
      "|  5676|    148|   1.0|  4.059069|\n",
      "| 12863|    148|   3.0|  2.489973|\n",
      "| 25556|    148|   4.0| 2.6623514|\n",
      "| 52552|    148|   3.0| 2.1763194|\n",
      "|  8594|    148|   2.0| 1.6334934|\n",
      "| 66167|    148|   2.5| 2.7152464|\n",
      "| 68303|    148|   2.0|    2.5351|\n",
      "| 63070|    148|   4.0| 3.2351332|\n",
      "| 69998|    148|   2.0| 2.3257787|\n",
      "| 14134|    148|   3.0| 2.2266705|\n",
      "| 24983|    148|   2.0| 3.0914733|\n",
      "| 45283|    148|   5.0|  3.174144|\n",
      "+------+-------+------+----------+\n",
      "only showing top 20 rows\n",
      "\n"
     ]
    }
   ],
   "source": [
    "predictions.show()"
   ]
  },
  {
   "cell_type": "code",
   "execution_count": 18,
   "metadata": {},
   "outputs": [],
   "source": [
    "from pyspark.ml.evaluation import RegressionEvaluator\n",
    "evaluator = RegressionEvaluator(metricName='rmse',labelCol='rating',predictionCol='prediction')"
   ]
  },
  {
   "cell_type": "code",
   "execution_count": 19,
   "metadata": {},
   "outputs": [],
   "source": [
    "rmse = evaluator.evaluate(predictions)"
   ]
  },
  {
   "cell_type": "code",
   "execution_count": 20,
   "metadata": {},
   "outputs": [
    {
     "data": {
      "text/plain": [
       "0.8172570989944358"
      ]
     },
     "execution_count": 20,
     "metadata": {},
     "output_type": "execute_result"
    }
   ],
   "source": [
    "rmse"
   ]
  },
  {
   "cell_type": "markdown",
   "metadata": {},
   "source": [
    "Now, let us test this on a user."
   ]
  },
  {
   "cell_type": "code",
   "execution_count": 23,
   "metadata": {},
   "outputs": [],
   "source": [
    "user = test.filter(test['userID']==1).select(['UserID','MovieID'])"
   ]
  },
  {
   "cell_type": "code",
   "execution_count": 24,
   "metadata": {},
   "outputs": [],
   "source": [
    "recommendation = model.transform(user)"
   ]
  },
  {
   "cell_type": "code",
   "execution_count": 25,
   "metadata": {},
   "outputs": [
    {
     "name": "stdout",
     "output_type": "stream",
     "text": [
      "+------+-------+----------+\n",
      "|UserID|MovieID|prediction|\n",
      "+------+-------+----------+\n",
      "|     1|    589| 4.8272343|\n",
      "|     1|    594| 4.7399898|\n",
      "|     1|    355| 4.5227833|\n",
      "|     1|    329| 4.2197657|\n",
      "+------+-------+----------+\n",
      "\n"
     ]
    }
   ],
   "source": [
    "recommendation.orderBy('prediction',ascending = False).show()"
   ]
  },
  {
   "cell_type": "code",
   "execution_count": 26,
   "metadata": {},
   "outputs": [
    {
     "name": "stdout",
     "output_type": "stream",
     "text": [
      "+------+-------+------+\n",
      "|UserID|MovieID|rating|\n",
      "+------+-------+------+\n",
      "|     1|    329|   5.0|\n",
      "|     1|    355|   5.0|\n",
      "|     1|    589|   5.0|\n",
      "|     1|    594|   5.0|\n",
      "+------+-------+------+\n",
      "\n"
     ]
    }
   ],
   "source": [
    "user = test.filter(test['userID']==1).show()"
   ]
  },
  {
   "cell_type": "markdown",
   "metadata": {},
   "source": [
    "As we can see from above, the rating and the prediction is almost equal."
   ]
  },
  {
   "cell_type": "code",
   "execution_count": null,
   "metadata": {},
   "outputs": [],
   "source": []
  }
 ],
 "metadata": {
  "kernelspec": {
   "display_name": "Python 3",
   "language": "python",
   "name": "python3"
  },
  "language_info": {
   "codemirror_mode": {
    "name": "ipython",
    "version": 3
   },
   "file_extension": ".py",
   "mimetype": "text/x-python",
   "name": "python",
   "nbconvert_exporter": "python",
   "pygments_lexer": "ipython3",
   "version": "3.6.9"
  }
 },
 "nbformat": 4,
 "nbformat_minor": 2
}
